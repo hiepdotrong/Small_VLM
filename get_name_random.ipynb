{
 "cells": [
  {
   "cell_type": "code",
   "execution_count": null,
   "metadata": {},
   "outputs": [],
   "source": [
    "import os\n",
    "\n",
    "# Thư mục chứa ảnh\n",
    "folder_path = \"/home/linhphuong/Documents/documents/do_an_tot_nghiep/100_PA/PA-100K/data\"\n",
    "\n",
    "# Lấy danh sách các tệp tin có phần mở rộng là ảnh\n",
    "image_files = [f for f in os.listdir(folder_path) if f.lower().endswith(('.png', '.jpg', '.jpeg', '.gif', '.bmp'))]\n",
    "\n",
    "# In danh sách tên ảnh\n",
    "print(image_files)\n"
   ]
  },
  {
   "cell_type": "code",
   "execution_count": null,
   "metadata": {},
   "outputs": [],
   "source": [
    "import os\n",
    "import csv\n",
    "import random\n",
    "\n",
    "# Thư mục chứa ảnh\n",
    "folder_path = \"/home/linhphuong/Documents/documents/do_an_tot_nghiep/100_PA/PA-100K/data\"\n",
    "\n",
    "# Lấy danh sách tất cả các tệp tin ảnh\n",
    "image_files = [f for f in os.listdir(folder_path) if f.lower().endswith(('.jpg'))]\n",
    "\n",
    "# Chọn ngẫu nhiên 100 ảnh (nếu có đủ)\n",
    "sample_size = min(100, len(image_files))\n",
    "selected_images = random.sample(image_files, sample_size)\n",
    "\n",
    "# Lưu đường dẫn vào file CSV\n",
    "csv_file = \"name_data_test.csv\"\n",
    "with open(csv_file, mode=\"w\", newline=\"\", encoding=\"utf-8\") as file:\n",
    "    writer = csv.writer(file)\n",
    "    for image in selected_images:\n",
    "        writer.writerow([image])\n",
    "\n",
    "print(f\"Đã lưu {sample_size} đường dẫn ảnh vào {csv_file}\")\n"
   ]
  }
 ],
 "metadata": {
  "language_info": {
   "name": "python"
  }
 },
 "nbformat": 4,
 "nbformat_minor": 2
}
